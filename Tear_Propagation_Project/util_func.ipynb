{
 "cells": [
  {
   "cell_type": "code",
   "execution_count": null,
   "id": "92a0df7a",
   "metadata": {},
   "outputs": [],
   "source": [
    "import os\n",
    "import matplotlib.pyplot as plt\n",
    "import numpy as np\n",
    "import cupy as cp\n",
    "import tensorflow as tf\n",
    "\n",
    "def read_n_to_last_line(filename, n = 1):\n",
    "    # Returns the nth before last line of a file (n=1 gives last line)\n",
    "    num_newlines = 0\n",
    "    with open(filename, 'rb') as f:\n",
    "        try:\n",
    "            f.seek(-2, os.SEEK_END)    \n",
    "            while num_newlines < n:\n",
    "                f.seek(-2, os.SEEK_CUR)\n",
    "                if f.read(1) == b'\\n':\n",
    "                    num_newlines += 1\n",
    "        except OSError:\n",
    "            f.seek(0)\n",
    "        last_line = f.readline().decode().strip()\n",
    "        f.close()\n",
    "    return last_line\n",
    "    "
   ]
  }
 ],
 "metadata": {
  "kernelspec": {
   "display_name": "Python [conda env:ROM_ML] *",
   "language": "python",
   "name": "conda-env-ROM_ML-py"
  },
  "language_info": {
   "codemirror_mode": {
    "name": "ipython",
    "version": 3
   },
   "file_extension": ".py",
   "mimetype": "text/x-python",
   "name": "python",
   "nbconvert_exporter": "python",
   "pygments_lexer": "ipython3",
   "version": "3.10.13"
  }
 },
 "nbformat": 4,
 "nbformat_minor": 5
}
