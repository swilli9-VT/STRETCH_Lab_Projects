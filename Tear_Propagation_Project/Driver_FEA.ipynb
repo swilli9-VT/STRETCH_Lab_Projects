{
 "cells": [
  {
   "cell_type": "code",
   "execution_count": 1,
   "id": "bd473e78",
   "metadata": {},
   "outputs": [],
   "source": [
    "import tensorflow as tf\n",
    "import pandas as pd\n",
    "import numpy as np\n",
    "import math\n",
    "import time\n",
    "import os\n",
    "import nbimporter\n",
    "from Class_FEA import *\n",
    "import util_func\n",
    "from itertools import product\n",
    "from subprocess import Popen\n",
    "import sys\n",
    "from IPython.display import display, clear_output, Math, Latex"
   ]
  },
  {
   "cell_type": "code",
   "execution_count": 2,
   "id": "946f2f5c",
   "metadata": {},
   "outputs": [],
   "source": [
    "# Declare Abaqus job name, file path to job folder, and user subroutine name \n",
    "job_name = r\"HGO_Tear_Propagation\"\n",
    "job_directory = r\"D:\\Users\\Will\\Tear_Propagation_Project\"\n",
    "umat_name = r\"UMAT_HGO_C_Damage_Alpha\"\n",
    "\n",
    "# Declare work and data directories\n",
    "work_directory = r\"C:\\Users\\swilli9\\Tear_Propagation_Project\"\n",
    "data_directory = r\"{path}\\Data_and_Visualizations\".format(path=work_directory)\n"
   ]
  },
  {
   "cell_type": "code",
   "execution_count": 3,
   "id": "2187e30b",
   "metadata": {},
   "outputs": [],
   "source": [
    "# Initialize class for handling Abaqus controls and data storage\n",
    "FE = Abaqus(job_name, job_directory, data_directory)\n",
    "# Class Attributes:\n",
    "#\n",
    "# FE.job, FE.job_path, FE.lines_init, FE.lines_inp, FE.coord, FE.connect, FE.num_nodes, FE.num_dof, FE.num_el,\n",
    "# FE.Kc_0, FE.Kc_n, FE.Fc_n, FE.tear, FE.snapshots, FE.node_data, FE.el_data, FE.BC_mask\n",
    "#\n",
    "# Class Functions:\n",
    "#\n",
    "# FE.get_stiffness(mu), FE.get_max_load(mu), FE.init_FE_data_storage(), FE.get_FE_data(mu), FE.get_tear_len(mu)\n",
    "\n",
    "\n",
    "# Declare run control file path\n",
    "run_control = r\"{folder}\\run_input_file.bat\".format(folder=work_directory)\n",
    "\n",
    "init_file = r\"{path}_INIT.inp\".format(path = FE.job_path)\n",
    "inp_file = r\"{path}.inp\".format(path = FE.job_path)\n",
    "sta_file = r\"{path}.sta\".format(path = FE.job_path)\n",
    "\n",
    "# Declare HGO constant parameters\n",
    "HGO_constants =['C10 = {C10}\\n'.format( C10 = 0.003 ), \n",
    "                'D1 = {D1}\\n'.format(   D1  = 0.05  ), \n",
    "                'k1 = {k1}\\n'.format(   k1  = 1.0   ), \n",
    "                'k2 = {k2}\\n'.format(   k2  = 1.0   ), \n",
    "                'kap = {kap}\\n'.format( kap = 0.25  ), \n",
    "                'N = {N}\\n'.format(     N   = 2     ), \n",
    "                'T1 = {T1}\\n'.format(   T1  = 1.35  ), #1.35\n",
    "                'T2 = {T2}\\n'.format(   T2  = 1.36  )] #1.36\n",
    "\n",
    "c_ind = [FE.lines_inp.index(l) for l in FE.lines_inp if l.startswith('C10')][0]\n",
    "\n",
    "FE.lines_inp[c_ind:c_ind+8]  = HGO_constants\n",
    "FE.lines_init[c_ind:c_ind+8] = HGO_constants\n",
    "\n",
    "with open(inp_file, \"w\") as file:\n",
    "    file.writelines(FE.lines_inp)\n",
    "    file.close()   \n",
    "with open(init_file, \"w\") as file:\n",
    "    file.writelines(FE.lines_init)\n",
    "    file.close()\n",
    "\n",
    "beta = np.array([[16.75, 40.78],\n",
    "                 [26.11, 18.85],\n",
    "                 [69.21, 63.2]])\n",
    "\n",
    "beta_ind = [FE.lines_inp.index(l) for l in FE.lines_inp if \n",
    "            (l.startswith('beta1') or l.startswith('beta2') or l.startswith('beta3'))]\n"
   ]
  },
  {
   "cell_type": "code",
   "execution_count": 4,
   "id": "ba24b35a",
   "metadata": {},
   "outputs": [
    {
     "data": {
      "text/latex": [
       "$\\mu_8 = [40.78^o,18.85^o,63.2^o]$"
      ],
      "text/plain": [
       "<IPython.core.display.Latex object>"
      ]
     },
     "metadata": {},
     "output_type": "display_data"
    },
    {
     "data": {
      "text/latex": [
       "\tIncrement: 1268"
      ],
      "text/plain": [
       "<IPython.core.display.Latex object>"
      ]
     },
     "metadata": {},
     "output_type": "display_data"
    },
    {
     "data": {
      "text/latex": [
       "\tStep Time: 1.00"
      ],
      "text/plain": [
       "<IPython.core.display.Latex object>"
      ]
     },
     "metadata": {},
     "output_type": "display_data"
    },
    {
     "data": {
      "text/plain": [
       "'THE ANALYSIS HAS COMPLETED SUCCESSFULLY'"
      ]
     },
     "metadata": {},
     "output_type": "display_data"
    }
   ],
   "source": [
    "# Initialize wall clock time tracking\n",
    "wall_clock = np.array([])\n",
    "\n",
    "# Initialize/reset storage files for FE data if needed\n",
    "reset = 1\n",
    "if reset:\n",
    "    check = input(\"You are about to overwrite data storage files for FE results. Are you sure? [y]/[n]: \")\n",
    "    if check == 'y':\n",
    "        FE.init_data_storage()\n",
    "        clear_output()\n",
    "    else:\n",
    "        sys.exit(\"Script terminated. Adjust 'reset' flag if appending to existing data.\")\n",
    "\n",
    "# Iterate over beta parameter combinations, mu\n",
    "for i, mu in enumerate(product(beta[0], beta[1], beta[2])):\n",
    "    start = time.time()\n",
    "    # Update beta values in the initial and main input files\n",
    "    for j in range(3):\n",
    "        FE.lines_inp[beta_ind[j]] = \"beta{b} = {beta}\\n\".format(b=j+1,beta = mu[j])\n",
    "        FE.lines_init[beta_ind[j]] = \"beta{b} = {beta}\\n\".format(b=j+1,beta = mu[j])\n",
    "    \n",
    "    with open(inp_file, \"w\") as file:\n",
    "        file.writelines(FE.lines_inp)\n",
    "        file.close()   \n",
    "    with open(init_file, \"w\") as file:\n",
    "        file.writelines(FE.lines_init)\n",
    "        file.close()\n",
    "    \n",
    "    # Set run control to initial input file\n",
    "    with open(run_control, \"r\") as file:\n",
    "        lines = file.readlines()\n",
    "        file.close()\n",
    "    lines[2] = r\"abaqus job={job}_INIT user={umat} gpus=1 output_precision=full ask_delete=OFF\".format(job=job_name,umat=umat_name)\n",
    "    with open(run_control, \"w\") as file:\n",
    "        file.writelines(lines)\n",
    "        file.close()\n",
    "    \n",
    "    # Run initial stiffness simulation\n",
    "    lock_file = r\"{path}_INIT.lck\".format(path = FE.job_path)\n",
    "    p = Popen(\"run_input_file.bat\", cwd=work_directory)\n",
    "    stdout, stderr = p.communicate()\n",
    "    \n",
    "    # Wait for initial stiffness simulation to end\n",
    "    time.sleep(5)\n",
    "    while os.path.exists(lock_file):\n",
    "        time.sleep(1)\n",
    "    \n",
    "    # Set run control to main input file\n",
    "    with open(run_control, \"r\") as file:\n",
    "        lines = file.readlines()\n",
    "        file.close()\n",
    "    lines[2] = r\"abaqus job={job} user={umat} gpus=1 output_precision=full ask_delete=OFF\".format(job=job_name,umat=umat_name)\n",
    "    with open(run_control, \"w\") as file:\n",
    "        file.writelines(lines)\n",
    "        file.close()\n",
    "    \n",
    "    #Run main simulation\n",
    "    lock_file = r\"{path}.lck\".format(path = FE.job_path)\n",
    "    p = Popen(\"run_input_file.bat\", cwd=work_directory)\n",
    "    stdout, stderr = p.communicate()\n",
    "\n",
    "    # Wait until status file is created\n",
    "    time.sleep(5)\n",
    "    while (not os.path.exists(sta_file)):\n",
    "        time.sleep(1)\n",
    "\n",
    "    # While main simulation is running, periodically check status file and display current increment and step time\n",
    "    while os.path.exists(lock_file):\n",
    "        last_line = util_func.read_n_to_last_line(sta_file)\n",
    "        if last_line != \"THE ANALYSIS HAS COMPLETED SUCCESSFULLY\":\n",
    "            line = last_line.split()\n",
    "            clear_output(wait=True)\n",
    "            display(Latex(\"$\\mu_{i} = [{b1}^o,{b2}^o,{b3}^o]$\".format(i=i+1,b1=mu[0],b2=mu[1],b3=mu[2])))\n",
    "            display(Latex(\"\\tIncrement: {inc}\".format(inc=line[1]))) \n",
    "            display(Latex(\"\\tStep Time: {t}\".format(t=line[7])))\n",
    "        time.sleep(10)\n",
    "    \n",
    "    # When main simulation finishes, output indication that the analysis is complete\n",
    "    last_inc = util_func.read_n_to_last_line(sta_file, n=4).split()\n",
    "    clear_output(wait=True)\n",
    "    display(Latex(\"$\\mu_{i} = [{b1}^o,{b2}^o,{b3}^o]$\".format(i=i+1,b1=mu[0],b2=mu[1],b3=mu[2])))\n",
    "    display(Latex(\"\\tIncrement: {inc}\".format(inc=last_inc[1]))) \n",
    "    display(Latex(\"\\tStep Time: {t}\".format(t=last_inc[7])))\n",
    "    last_line = util_func.read_n_to_last_line(sta_file).strip()\n",
    "    display(\"{complete}\".format(complete=last_line))\n",
    "    \n",
    "    # Gather data from completed run\n",
    "    FE.get_stiffness(mu)\n",
    "    FE.get_max_load(mu)\n",
    "    FE.get_data(mu)\n",
    "    FE.get_tear_len(mu)\n",
    "    \n",
    "    end = time.time()\n",
    "    \n",
    "    wall_clock = np.append(wall_clock, end-start)\n",
    "\n",
    "clock_file = r\"{path}_wall_clock_time.txt\".format(path=FE.data_path)\n",
    "with open(clock_file, \"w+\") as file:\n",
    "    file.write('\\n'.join(str(wc) for wc in wall_clock))\n",
    "    file.close()\n"
   ]
  },
  {
   "cell_type": "code",
   "execution_count": 5,
   "id": "9950908b",
   "metadata": {},
   "outputs": [],
   "source": [
    "# terminate = 0\n",
    "\n",
    "# if terminate == 0:\n",
    "#     # Update the job termination control in case a job needs to be aborted mid-run\n",
    "#     terminate = r\"{folder}\\terminate_job.bat\".format(folder=work_directory)\n",
    "#     with open(terminate, \"r\") as file:\n",
    "#         lines = file.readlines()\n",
    "#         file.close()   \n",
    "#     lines[2] = r\"abaqus terminate job={job}_INIT\".format(job=job_name)\n",
    "#     with open(terminate, \"w\") as file:\n",
    "#         file.writelines(lines)\n",
    "#         file.close()\n",
    "#     p = Popen(\"terminate_job.bat\", cwd=work_directory)\n",
    "#     stdout, stderr = p.communicate()\n",
    "    \n",
    "# elif terminate == 1:\n",
    "#     # Update the job termination control in case a job needs to be aborted mid-run\n",
    "#     terminate = r\"{folder}\\terminate_job.bat\".format(folder=work_directory)\n",
    "#     with open(terminate, \"r\") as file:\n",
    "#         lines = file.readlines()\n",
    "#         file.close()   \n",
    "#     lines[2] = r\"abaqus terminate job={job}\".format(job=job_name)\n",
    "#     with open(terminate, \"w\") as file:\n",
    "#         file.writelines(lines)\n",
    "#         file.close()\n",
    "#     p = Popen(\"terminate_job.bat\", cwd=work_directory)\n",
    "#     stdout, stderr = p.communicate()\n"
   ]
  },
  {
   "cell_type": "code",
   "execution_count": null,
   "id": "18bc9da9",
   "metadata": {},
   "outputs": [],
   "source": []
  }
 ],
 "metadata": {
  "kernelspec": {
   "display_name": "Python [conda env:ROM_ML] *",
   "language": "python",
   "name": "conda-env-ROM_ML-py"
  },
  "language_info": {
   "codemirror_mode": {
    "name": "ipython",
    "version": 3
   },
   "file_extension": ".py",
   "mimetype": "text/x-python",
   "name": "python",
   "nbconvert_exporter": "python",
   "pygments_lexer": "ipython3",
   "version": "3.10.13"
  }
 },
 "nbformat": 4,
 "nbformat_minor": 5
}
